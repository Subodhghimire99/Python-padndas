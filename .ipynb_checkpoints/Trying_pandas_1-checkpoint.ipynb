{
 "cells": [
  {
   "cell_type": "code",
   "execution_count": 1,
   "metadata": {},
   "outputs": [],
   "source": [
    "import pandas as pd"
   ]
  },
  {
   "cell_type": "code",
   "execution_count": 9,
   "metadata": {},
   "outputs": [],
   "source": [
    "df = pd.read_csv(\"fifa_players_data.csv\")                #  for reading data :-  read_csv( location of file ) \n",
    "# <data frame object name > to view all data ...this case df is the object "
   ]
  },
  {
   "cell_type": "code",
   "execution_count": 6,
   "metadata": {},
   "outputs": [],
   "source": [
    "\"\"\"\n",
    "DataFrame(<dictonary>)\n",
    "creating a data frame using dictonary \n",
    "arrays must be of same length \n",
    "\"\"\"\n",
    "dict1={\n",
    "    \"Name\":[\"Subodh\", \"Sanjiv\", \"Suraj\", \"Rajiv\", \"Sudesh\", \"Milan\", \"Suman\", \"Manoj\"],\n",
    "    \"Branch\":[\"CSE\", \"CSE\", \"CSE\", \"CSE\", \"Civil\", \"CSE\", \"Civil\", \"MECH\"],\n",
    "    \"Address\":[\"Barangdi\", \"Tansen\", \"Kawaseti\", \"Tansen\", \"\", \"Tansen\", \"Tansen\", \"Bhairavstan\"],\n",
    "}\n",
    "df1=pd.DataFrame(dict1)"
   ]
  },
  {
   "cell_type": "code",
   "execution_count": 54,
   "metadata": {},
   "outputs": [
    {
     "name": "stdout",
     "output_type": "stream",
     "text": [
      "For df1 \n",
      "\n",
      "The shape is \t (8, 3)\n",
      "No of rows is : 18207\n",
      "No of columns  is : 89 \n",
      "Total no of elements is 24\n"
     ]
    },
    {
     "data": {
      "text/html": [
       "<div>\n",
       "<style scoped>\n",
       "    .dataframe tbody tr th:only-of-type {\n",
       "        vertical-align: middle;\n",
       "    }\n",
       "\n",
       "    .dataframe tbody tr th {\n",
       "        vertical-align: top;\n",
       "    }\n",
       "\n",
       "    .dataframe thead th {\n",
       "        text-align: right;\n",
       "    }\n",
       "</style>\n",
       "<table border=\"1\" class=\"dataframe\">\n",
       "  <thead>\n",
       "    <tr style=\"text-align: right;\">\n",
       "      <th></th>\n",
       "      <th>Name</th>\n",
       "      <th>Branch</th>\n",
       "      <th>Address</th>\n",
       "    </tr>\n",
       "  </thead>\n",
       "  <tbody>\n",
       "    <tr>\n",
       "      <th>0</th>\n",
       "      <td>Subodh</td>\n",
       "      <td>CSE</td>\n",
       "      <td>Barangdi</td>\n",
       "    </tr>\n",
       "    <tr>\n",
       "      <th>1</th>\n",
       "      <td>Sanjiv</td>\n",
       "      <td>CSE</td>\n",
       "      <td>Tansen</td>\n",
       "    </tr>\n",
       "    <tr>\n",
       "      <th>2</th>\n",
       "      <td>Suraj</td>\n",
       "      <td>CSE</td>\n",
       "      <td>Kawaseti</td>\n",
       "    </tr>\n",
       "    <tr>\n",
       "      <th>3</th>\n",
       "      <td>Rajiv</td>\n",
       "      <td>CSE</td>\n",
       "      <td>Tansen</td>\n",
       "    </tr>\n",
       "    <tr>\n",
       "      <th>4</th>\n",
       "      <td>Sudesh</td>\n",
       "      <td>Civil</td>\n",
       "      <td></td>\n",
       "    </tr>\n",
       "    <tr>\n",
       "      <th>5</th>\n",
       "      <td>Milan</td>\n",
       "      <td>CSE</td>\n",
       "      <td>Tansen</td>\n",
       "    </tr>\n",
       "    <tr>\n",
       "      <th>6</th>\n",
       "      <td>Suman</td>\n",
       "      <td>Civil</td>\n",
       "      <td>Tansen</td>\n",
       "    </tr>\n",
       "    <tr>\n",
       "      <th>7</th>\n",
       "      <td>Manoj</td>\n",
       "      <td>MECH</td>\n",
       "      <td>Bhairavstan</td>\n",
       "    </tr>\n",
       "  </tbody>\n",
       "</table>\n",
       "</div>"
      ],
      "text/plain": [
       "     Name Branch      Address\n",
       "0  Subodh    CSE     Barangdi\n",
       "1  Sanjiv    CSE       Tansen\n",
       "2   Suraj    CSE     Kawaseti\n",
       "3   Rajiv    CSE       Tansen\n",
       "4  Sudesh  Civil             \n",
       "5   Milan    CSE       Tansen\n",
       "6   Suman  Civil       Tansen\n",
       "7   Manoj   MECH  Bhairavstan"
      ]
     },
     "execution_count": 54,
     "metadata": {},
     "output_type": "execute_result"
    }
   ],
   "source": [
    "# df.shape gives rows and  columns and size gives the no of elements in whole dataframe \n",
    "print(\"For df1 \\n\\nThe shape is \\t\",df1.shape)\n",
    "rows, columns = df.shape\n",
    "print(\"No of rows is : {0}\\nNo of columns  is : {1} \\nTotal no of elements is {2}\".format(rows, columns, df1.size))\n",
    "df1"
   ]
  },
  {
   "cell_type": "code",
   "execution_count": 33,
   "metadata": {},
   "outputs": [
    {
     "data": {
      "text/html": [
       "<div>\n",
       "<style scoped>\n",
       "    .dataframe tbody tr th:only-of-type {\n",
       "        vertical-align: middle;\n",
       "    }\n",
       "\n",
       "    .dataframe tbody tr th {\n",
       "        vertical-align: top;\n",
       "    }\n",
       "\n",
       "    .dataframe thead th {\n",
       "        text-align: right;\n",
       "    }\n",
       "</style>\n",
       "<table border=\"1\" class=\"dataframe\">\n",
       "  <thead>\n",
       "    <tr style=\"text-align: right;\">\n",
       "      <th></th>\n",
       "      <th>Name</th>\n",
       "      <th>Branch</th>\n",
       "      <th>Address</th>\n",
       "    </tr>\n",
       "  </thead>\n",
       "  <tbody>\n",
       "    <tr>\n",
       "      <th>4</th>\n",
       "      <td>Sudesh</td>\n",
       "      <td>Civil</td>\n",
       "      <td></td>\n",
       "    </tr>\n",
       "    <tr>\n",
       "      <th>5</th>\n",
       "      <td>Milan</td>\n",
       "      <td>CSE</td>\n",
       "      <td>Tansen</td>\n",
       "    </tr>\n",
       "    <tr>\n",
       "      <th>6</th>\n",
       "      <td>Suman</td>\n",
       "      <td>Civil</td>\n",
       "      <td>Tansen</td>\n",
       "    </tr>\n",
       "    <tr>\n",
       "      <th>7</th>\n",
       "      <td>Manoj</td>\n",
       "      <td>MECH</td>\n",
       "      <td>Bhairavstan</td>\n",
       "    </tr>\n",
       "  </tbody>\n",
       "</table>\n",
       "</div>"
      ],
      "text/plain": [
       "     Name Branch      Address\n",
       "4  Sudesh  Civil             \n",
       "5   Milan    CSE       Tansen\n",
       "6   Suman  Civil       Tansen\n",
       "7   Manoj   MECH  Bhairavstan"
      ]
     },
     "execution_count": 33,
     "metadata": {},
     "output_type": "execute_result"
    }
   ],
   "source": [
    "\"\"\"df.columns-- fpr titles in dataframe\n",
    "df.head( <no of elements from first> )\n",
    "df.tail( <no of elements from last > )\n",
    "df[:] -- all\n",
    "df[m:n]  ---  from m rows to n rows .... n exclusive\"\"\"\n",
    "df1[1:3]"
   ]
  },
  {
   "cell_type": "code",
   "execution_count": 34,
   "metadata": {},
   "outputs": [
    {
     "data": {
      "text/html": [
       "<div>\n",
       "<style scoped>\n",
       "    .dataframe tbody tr th:only-of-type {\n",
       "        vertical-align: middle;\n",
       "    }\n",
       "\n",
       "    .dataframe tbody tr th {\n",
       "        vertical-align: top;\n",
       "    }\n",
       "\n",
       "    .dataframe thead th {\n",
       "        text-align: right;\n",
       "    }\n",
       "</style>\n",
       "<table border=\"1\" class=\"dataframe\">\n",
       "  <thead>\n",
       "    <tr style=\"text-align: right;\">\n",
       "      <th></th>\n",
       "      <th>Name</th>\n",
       "      <th>Branch</th>\n",
       "      <th>Address</th>\n",
       "    </tr>\n",
       "  </thead>\n",
       "  <tbody>\n",
       "    <tr>\n",
       "      <th>0</th>\n",
       "      <td>Subodh</td>\n",
       "      <td>CSE</td>\n",
       "      <td>Barangdi</td>\n",
       "    </tr>\n",
       "    <tr>\n",
       "      <th>1</th>\n",
       "      <td>Sanjiv</td>\n",
       "      <td>CSE</td>\n",
       "      <td>Tansen</td>\n",
       "    </tr>\n",
       "    <tr>\n",
       "      <th>2</th>\n",
       "      <td>Suraj</td>\n",
       "      <td>CSE</td>\n",
       "      <td>Kawaseti</td>\n",
       "    </tr>\n",
       "    <tr>\n",
       "      <th>3</th>\n",
       "      <td>Rajiv</td>\n",
       "      <td>CSE</td>\n",
       "      <td>Tansen</td>\n",
       "    </tr>\n",
       "  </tbody>\n",
       "</table>\n",
       "</div>"
      ],
      "text/plain": [
       "     Name Branch   Address\n",
       "0  Subodh    CSE  Barangdi\n",
       "1  Sanjiv    CSE    Tansen\n",
       "2   Suraj    CSE  Kawaseti\n",
       "3   Rajiv    CSE    Tansen"
      ]
     },
     "execution_count": 34,
     "metadata": {},
     "output_type": "execute_result"
    }
   ],
   "source": [
    "df1.head(4)"
   ]
  },
  {
   "cell_type": "code",
   "execution_count": 35,
   "metadata": {},
   "outputs": [
    {
     "data": {
      "text/html": [
       "<div>\n",
       "<style scoped>\n",
       "    .dataframe tbody tr th:only-of-type {\n",
       "        vertical-align: middle;\n",
       "    }\n",
       "\n",
       "    .dataframe tbody tr th {\n",
       "        vertical-align: top;\n",
       "    }\n",
       "\n",
       "    .dataframe thead th {\n",
       "        text-align: right;\n",
       "    }\n",
       "</style>\n",
       "<table border=\"1\" class=\"dataframe\">\n",
       "  <thead>\n",
       "    <tr style=\"text-align: right;\">\n",
       "      <th></th>\n",
       "      <th>Name</th>\n",
       "      <th>Branch</th>\n",
       "      <th>Address</th>\n",
       "    </tr>\n",
       "  </thead>\n",
       "  <tbody>\n",
       "    <tr>\n",
       "      <th>4</th>\n",
       "      <td>Sudesh</td>\n",
       "      <td>Civil</td>\n",
       "      <td></td>\n",
       "    </tr>\n",
       "    <tr>\n",
       "      <th>5</th>\n",
       "      <td>Milan</td>\n",
       "      <td>CSE</td>\n",
       "      <td>Tansen</td>\n",
       "    </tr>\n",
       "    <tr>\n",
       "      <th>6</th>\n",
       "      <td>Suman</td>\n",
       "      <td>Civil</td>\n",
       "      <td>Tansen</td>\n",
       "    </tr>\n",
       "    <tr>\n",
       "      <th>7</th>\n",
       "      <td>Manoj</td>\n",
       "      <td>MECH</td>\n",
       "      <td>Bhairavstan</td>\n",
       "    </tr>\n",
       "  </tbody>\n",
       "</table>\n",
       "</div>"
      ],
      "text/plain": [
       "     Name Branch      Address\n",
       "4  Sudesh  Civil             \n",
       "5   Milan    CSE       Tansen\n",
       "6   Suman  Civil       Tansen\n",
       "7   Manoj   MECH  Bhairavstan"
      ]
     },
     "execution_count": 35,
     "metadata": {},
     "output_type": "execute_result"
    }
   ],
   "source": [
    "df1.tail(4)"
   ]
  },
  {
   "cell_type": "code",
   "execution_count": 38,
   "metadata": {},
   "outputs": [
    {
     "data": {
      "text/plain": [
       "(8, 3)"
      ]
     },
     "execution_count": 38,
     "metadata": {},
     "output_type": "execute_result"
    }
   ],
   "source": [
    "df1.shape"
   ]
  }
 ],
 "metadata": {
  "kernelspec": {
   "display_name": "Python 3",
   "language": "python",
   "name": "python3"
  },
  "language_info": {
   "codemirror_mode": {
    "name": "ipython",
    "version": 3
   },
   "file_extension": ".py",
   "mimetype": "text/x-python",
   "name": "python",
   "nbconvert_exporter": "python",
   "pygments_lexer": "ipython3",
   "version": "3.6.5"
  }
 },
 "nbformat": 4,
 "nbformat_minor": 2
}
