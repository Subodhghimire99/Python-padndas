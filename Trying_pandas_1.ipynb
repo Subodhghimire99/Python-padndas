{
 "cells": [
  {
   "cell_type": "code",
   "execution_count": 13,
   "metadata": {},
   "outputs": [],
   "source": [
    "import pandas as pd"
   ]
  },
  {
   "cell_type": "code",
   "execution_count": 9,
   "metadata": {},
   "outputs": [],
   "source": [
    "df = pd.read_csv(\"fifa_players_data.csv\")                #  for reading data :-  read_csv( location of file ) \n",
    "# <data frame object name > to view all data ...this case df is the object "
   ]
  },
  {
   "cell_type": "code",
   "execution_count": 21,
   "metadata": {},
   "outputs": [],
   "source": [
    "\"\"\"\n",
    "creating a data frame using dictonary \n",
    "arrays must be of same length \n",
    "\"\"\"\n",
    "dict1={\n",
    "    \"Name\":[\"Subodh\", \"Sanjiv\", \"Suraj\", \"Rajiv\", \"Sudesh\", \"Milan\", \"Suman\", \"Manoj\"],\n",
    "    \"Branch\":[\"CSE\", \"CSE\", \"CSE\", \"CSE\", \"Civil\", \"CSE\", \"Civil\", \"MECH\"],\n",
    "    \"Address\":[\"Barangdi\", \"Tansen\", \"Kawaseti\", \"Tansen\", \"\", \"Tansen\", \"Tansen\", \"Bhairavstan\"],\n",
    "}\n",
    "df=pd.DataFrame(dict1)"
   ]
  }
 ],
 "metadata": {
  "kernelspec": {
   "display_name": "Python 3",
   "language": "python",
   "name": "python3"
  },
  "language_info": {
   "codemirror_mode": {
    "name": "ipython",
    "version": 3
   },
   "file_extension": ".py",
   "mimetype": "text/x-python",
   "name": "python",
   "nbconvert_exporter": "python",
   "pygments_lexer": "ipython3",
   "version": "3.6.5"
  }
 },
 "nbformat": 4,
 "nbformat_minor": 2
}
