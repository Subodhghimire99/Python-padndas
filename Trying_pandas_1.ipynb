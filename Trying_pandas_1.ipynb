{
 "cells": [
  {
   "cell_type": "code",
   "execution_count": 1,
   "metadata": {},
   "outputs": [],
   "source": [
    "import pandas as pd"
   ]
  },
  {
   "cell_type": "code",
   "execution_count": 4,
   "metadata": {},
   "outputs": [],
   "source": [
    "df = pd.read_csv(\"fifa_players_data.csv\")                #  for reading data :-  read_csv( location of file ) \n",
    "# <data frame object name > to view all data ...this case df is the object "
   ]
  },
  {
   "cell_type": "code",
   "execution_count": 3,
   "metadata": {},
   "outputs": [],
   "source": [
    "\"\"\"\n",
    "DataFrame(<dictonary>)\n",
    "creating a data frame using dictonary \n",
    "arrays must be of same length \n",
    "\"\"\"\n",
    "dict1={\n",
    "    \"Name\":[\"Subodh\", \"Sanjiv\", \"Suraj\", \"Rajiv\", \"Sudesh\", \"Milan\", \"Suman\", \"Manoj\"],\n",
    "    \"Branch\":[\"CSE\", \"CSE\", \"CSE\", \"CSE\", \"Civil\", \"CSE\", \"Civil\", \"MECH\"],\n",
    "    \"Address\":[\"Barangdi\", \"Tansen\", \"Kawaseti\", \"Tansen\", \"\", \"Tansen\", \"Tansen\", \"Bhairavstan\"],\n",
    "}\n",
    "df1=pd.DataFrame(dict1)"
   ]
  },
  {
   "cell_type": "code",
   "execution_count": null,
   "metadata": {},
   "outputs": [],
   "source": [
    "# df.shape gives rows and  columns and size gives the no of elements in whole dataframe \n",
    "print(\"For df1 \\n\\nThe shape is \\t\",df1.shape)\n",
    "rows, columns = df.shape\n",
    "print(\"No of rows is : {0}\\nNo of columns  is : {1} \\nTotal no of elements is {2}\".format(rows, columns, df1.size))\n",
    "df1"
   ]
  },
  {
   "cell_type": "code",
   "execution_count": null,
   "metadata": {},
   "outputs": [],
   "source": [
    "\"\"\"df.columns-- fpr titles in dataframe\n",
    "df.head( <no of elements from first> )\n",
    "df.tail( <no of elements from last > )\n",
    "df[:] -- all\n",
    "df[m:n]  ---  from m rows to n rows .... n exclusive\"\"\"\n",
    "df1[1:3]"
   ]
  },
  {
   "cell_type": "code",
   "execution_count": null,
   "metadata": {},
   "outputs": [],
   "source": [
    "df1.head(4)"
   ]
  },
  {
   "cell_type": "code",
   "execution_count": null,
   "metadata": {},
   "outputs": [],
   "source": [
    "df1.tail(4)"
   ]
  },
  {
   "cell_type": "code",
   "execution_count": null,
   "metadata": {},
   "outputs": [],
   "source": []
  }
 ],
 "metadata": {
  "kernelspec": {
   "display_name": "Python 3",
   "language": "python",
   "name": "python3"
  },
  "language_info": {
   "codemirror_mode": {
    "name": "ipython",
    "version": 3
   },
   "file_extension": ".py",
   "mimetype": "text/x-python",
   "name": "python",
   "nbconvert_exporter": "python",
   "pygments_lexer": "ipython3",
   "version": "3.6.5"
  }
 },
 "nbformat": 4,
 "nbformat_minor": 2
}
