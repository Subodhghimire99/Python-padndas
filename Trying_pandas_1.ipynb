{
 "cells": [
  {
   "cell_type": "code",
   "execution_count": 2,
   "metadata": {},
   "outputs": [],
   "source": [
    "import pandas as pd\n",
    "import math"
   ]
  },
  {
   "cell_type": "code",
   "execution_count": 3,
   "metadata": {},
   "outputs": [],
   "source": [
    "df = pd.read_csv(\"fifa_players_data.csv\")                #  for reading data :-  read_csv( location of file ) \n",
    "# <data frame object name > to view all data ...this case df is the object "
   ]
  },
  {
   "cell_type": "code",
   "execution_count": 4,
   "metadata": {},
   "outputs": [],
   "source": [
    "\"\"\"\n",
    "DataFrame(<dictonary>)\n",
    "creating a data frame using dictonary \n",
    "arrays must be of same length \n",
    "\"\"\"\n",
    "dict1={\n",
    "    \"Name\":[\"Subodh\", \"Sanjiv\", \"Suraj\", \"Rajiv\", \"Sudesh\", \"Milan\", \"Suman\", \"Manoj\"],\n",
    "    \"Branch\":[\"CSE\", \"CSE\", \"CSE\", \"CSE\", \"Civil\", \"CSE\", \"Civil\", \"MECH\"],\n",
    "    \"Address\":[\"Barangdi\", \"Tansen\", \"Kawaseti\", \"Tansen\", \"\", \"Tansen\", \"Tansen\", \"Bhairavstan\"],\n",
    "}\n",
    "df1=pd.DataFrame(dict1)"
   ]
  },
  {
   "cell_type": "code",
   "execution_count": null,
   "metadata": {},
   "outputs": [],
   "source": [
    "# df.shape gives rows and  columns and size gives the no of elements in whole dataframe \n",
    "print(\"For df1 \\n\\nThe shape is \\t\",df1.shape)\n",
    "rows, columns = df.shape\n",
    "print(\"No of rows is : {0}\\nNo of columns  is : {1} \\nTotal no of elements is {2}\".format(rows, columns, df1.size))\n",
    "df1"
   ]
  },
  {
   "cell_type": "code",
   "execution_count": null,
   "metadata": {},
   "outputs": [],
   "source": [
    "\"\"\"df.columns-- fpr titles in dataframe\n",
    "df.head( <no of elements from first> )\n",
    "df.tail( <no of elements from last > )\n",
    "df[:] -- all\n",
    "df[m:n]  ---  from m rows to n rows .... n exclusive\"\"\"\n",
    "df1[1:3]"
   ]
  },
  {
   "cell_type": "code",
   "execution_count": null,
   "metadata": {},
   "outputs": [],
   "source": [
    "df.head()"
   ]
  },
  {
   "cell_type": "code",
   "execution_count": null,
   "metadata": {},
   "outputs": [],
   "source": [
    "df1.tail(4)"
   ]
  },
  {
   "cell_type": "code",
   "execution_count": null,
   "metadata": {},
   "outputs": [],
   "source": [
    "df[['Name','Age']]  #printing the selected colums Name and Age from df"
   ]
  },
  {
   "cell_type": "code",
   "execution_count": null,
   "metadata": {},
   "outputs": [],
   "source": [
    "# max and min funtionn\n",
    "print(\"Max age : \", df[\"Age\"].max())\n",
    "print(\"Min age\", df[\"Age\"].min())\n",
    "print(\"Mean age (used floor function) : \", math.floor(df[\"Age\"].mean()))\n",
    "print(\"standard deviation of Age (without using floor function) : \", df[\"Age\"].std())"
   ]
  },
  {
   "cell_type": "code",
   "execution_count": null,
   "metadata": {},
   "outputs": [],
   "source": [
    "df.describe()  # describe prints the statistics in our dataset such as min, max, std, mean, etc."
   ]
  },
  {
   "cell_type": "code",
   "execution_count": 8,
   "metadata": {},
   "outputs": [
    {
     "data": {
      "text/html": [
       "<div>\n",
       "<style scoped>\n",
       "    .dataframe tbody tr th:only-of-type {\n",
       "        vertical-align: middle;\n",
       "    }\n",
       "\n",
       "    .dataframe tbody tr th {\n",
       "        vertical-align: top;\n",
       "    }\n",
       "\n",
       "    .dataframe thead th {\n",
       "        text-align: right;\n",
       "    }\n",
       "</style>\n",
       "<table border=\"1\" class=\"dataframe\">\n",
       "  <thead>\n",
       "    <tr style=\"text-align: right;\">\n",
       "      <th></th>\n",
       "      <th>Name</th>\n",
       "      <th>Age</th>\n",
       "      <th>Overall</th>\n",
       "      <th>Photo</th>\n",
       "    </tr>\n",
       "  </thead>\n",
       "  <tbody>\n",
       "    <tr>\n",
       "      <th>0</th>\n",
       "      <td>L. Messi</td>\n",
       "      <td>31</td>\n",
       "      <td>94</td>\n",
       "      <td>https://cdn.sofifa.org/players/4/19/158023.png</td>\n",
       "    </tr>\n",
       "    <tr>\n",
       "      <th>1</th>\n",
       "      <td>Cristiano Ronaldo</td>\n",
       "      <td>33</td>\n",
       "      <td>94</td>\n",
       "      <td>https://cdn.sofifa.org/players/4/19/20801.png</td>\n",
       "    </tr>\n",
       "    <tr>\n",
       "      <th>2</th>\n",
       "      <td>Neymar Jr</td>\n",
       "      <td>26</td>\n",
       "      <td>92</td>\n",
       "      <td>https://cdn.sofifa.org/players/4/19/190871.png</td>\n",
       "    </tr>\n",
       "    <tr>\n",
       "      <th>3</th>\n",
       "      <td>De Gea</td>\n",
       "      <td>27</td>\n",
       "      <td>91</td>\n",
       "      <td>https://cdn.sofifa.org/players/4/19/193080.png</td>\n",
       "    </tr>\n",
       "    <tr>\n",
       "      <th>4</th>\n",
       "      <td>K. De Bruyne</td>\n",
       "      <td>27</td>\n",
       "      <td>91</td>\n",
       "      <td>https://cdn.sofifa.org/players/4/19/192985.png</td>\n",
       "    </tr>\n",
       "    <tr>\n",
       "      <th>5</th>\n",
       "      <td>E. Hazard</td>\n",
       "      <td>27</td>\n",
       "      <td>91</td>\n",
       "      <td>https://cdn.sofifa.org/players/4/19/183277.png</td>\n",
       "    </tr>\n",
       "    <tr>\n",
       "      <th>6</th>\n",
       "      <td>L. Modrić</td>\n",
       "      <td>32</td>\n",
       "      <td>91</td>\n",
       "      <td>https://cdn.sofifa.org/players/4/19/177003.png</td>\n",
       "    </tr>\n",
       "    <tr>\n",
       "      <th>7</th>\n",
       "      <td>L. Suárez</td>\n",
       "      <td>31</td>\n",
       "      <td>91</td>\n",
       "      <td>https://cdn.sofifa.org/players/4/19/176580.png</td>\n",
       "    </tr>\n",
       "    <tr>\n",
       "      <th>8</th>\n",
       "      <td>Sergio Ramos</td>\n",
       "      <td>32</td>\n",
       "      <td>91</td>\n",
       "      <td>https://cdn.sofifa.org/players/4/19/155862.png</td>\n",
       "    </tr>\n",
       "    <tr>\n",
       "      <th>9</th>\n",
       "      <td>J. Oblak</td>\n",
       "      <td>25</td>\n",
       "      <td>90</td>\n",
       "      <td>https://cdn.sofifa.org/players/4/19/200389.png</td>\n",
       "    </tr>\n",
       "    <tr>\n",
       "      <th>10</th>\n",
       "      <td>R. Lewandowski</td>\n",
       "      <td>29</td>\n",
       "      <td>90</td>\n",
       "      <td>https://cdn.sofifa.org/players/4/19/188545.png</td>\n",
       "    </tr>\n",
       "    <tr>\n",
       "      <th>11</th>\n",
       "      <td>T. Kroos</td>\n",
       "      <td>28</td>\n",
       "      <td>90</td>\n",
       "      <td>https://cdn.sofifa.org/players/4/19/182521.png</td>\n",
       "    </tr>\n",
       "    <tr>\n",
       "      <th>12</th>\n",
       "      <td>D. Godín</td>\n",
       "      <td>32</td>\n",
       "      <td>90</td>\n",
       "      <td>https://cdn.sofifa.org/players/4/19/182493.png</td>\n",
       "    </tr>\n",
       "    <tr>\n",
       "      <th>13</th>\n",
       "      <td>David Silva</td>\n",
       "      <td>32</td>\n",
       "      <td>90</td>\n",
       "      <td>https://cdn.sofifa.org/players/4/19/168542.png</td>\n",
       "    </tr>\n",
       "  </tbody>\n",
       "</table>\n",
       "</div>"
      ],
      "text/plain": [
       "                 Name  Age  Overall  \\\n",
       "0            L. Messi   31       94   \n",
       "1   Cristiano Ronaldo   33       94   \n",
       "2           Neymar Jr   26       92   \n",
       "3              De Gea   27       91   \n",
       "4        K. De Bruyne   27       91   \n",
       "5           E. Hazard   27       91   \n",
       "6           L. Modrić   32       91   \n",
       "7           L. Suárez   31       91   \n",
       "8        Sergio Ramos   32       91   \n",
       "9            J. Oblak   25       90   \n",
       "10     R. Lewandowski   29       90   \n",
       "11           T. Kroos   28       90   \n",
       "12           D. Godín   32       90   \n",
       "13        David Silva   32       90   \n",
       "\n",
       "                                             Photo  \n",
       "0   https://cdn.sofifa.org/players/4/19/158023.png  \n",
       "1    https://cdn.sofifa.org/players/4/19/20801.png  \n",
       "2   https://cdn.sofifa.org/players/4/19/190871.png  \n",
       "3   https://cdn.sofifa.org/players/4/19/193080.png  \n",
       "4   https://cdn.sofifa.org/players/4/19/192985.png  \n",
       "5   https://cdn.sofifa.org/players/4/19/183277.png  \n",
       "6   https://cdn.sofifa.org/players/4/19/177003.png  \n",
       "7   https://cdn.sofifa.org/players/4/19/176580.png  \n",
       "8   https://cdn.sofifa.org/players/4/19/155862.png  \n",
       "9   https://cdn.sofifa.org/players/4/19/200389.png  \n",
       "10  https://cdn.sofifa.org/players/4/19/188545.png  \n",
       "11  https://cdn.sofifa.org/players/4/19/182521.png  \n",
       "12  https://cdn.sofifa.org/players/4/19/182493.png  \n",
       "13  https://cdn.sofifa.org/players/4/19/168542.png  "
      ]
     },
     "execution_count": 8,
     "metadata": {},
     "output_type": "execute_result"
    }
   ],
   "source": [
    "\"\"\" Filtering using the elements\n",
    "    \n",
    "    df[[column_name]][condition]     ---> shows specified columns based upon the condition\n",
    "    df[condition]                  ---> shows all columns based upon the conditions\n",
    "    \n",
    "\"\"\"\n",
    "\n",
    "df[df.Age == df.Age.max()]\n",
    "df[df.Overall >= 90]\n",
    "df[['Name','Age','Overall','Photo']][df['Overall'] >= 90]"
   ]
  },
  {
   "cell_type": "code",
   "execution_count": null,
   "metadata": {},
   "outputs": [],
   "source": [
    "df.index   #showing the index"
   ]
  },
  {
   "cell_type": "code",
   "execution_count": 27,
   "metadata": {},
   "outputs": [
    {
     "data": {
      "text/plain": [
       "level_0           2\n",
       "index             2\n",
       "Branch          CSE\n",
       "Name          Suraj\n",
       "Address    Kawaseti\n",
       "Name: 2, dtype: object"
      ]
     },
     "execution_count": 27,
     "metadata": {},
     "output_type": "execute_result"
    }
   ],
   "source": [
    "'''pandas has it's own index\n",
    "    To change we use   df.set_index(\"column_name\" inplace=True)       --> if inplace is true it modifies the currtnt dataframe else gives new dataframe with new index\n",
    "    To reset the changes we use df.reset_index(inplace = True) \n",
    "    we can access data using index by ... dataframe.loc['Index_value']\n",
    "    \n",
    "Note : we cannot set_index twice\n",
    "'''\n",
    "df1.loc[2]"
   ]
  },
  {
   "cell_type": "code",
   "execution_count": 7,
   "metadata": {},
   "outputs": [
    {
     "ename": "TypeError",
     "evalue": "bad operand type for abs(): 'str'",
     "output_type": "error",
     "traceback": [
      "\u001b[1;31m---------------------------------------------------------------------------\u001b[0m",
      "\u001b[1;31mTypeError\u001b[0m                                 Traceback (most recent call last)",
      "\u001b[1;32m<ipython-input-7-0eae10cb77ff>\u001b[0m in \u001b[0;36m<module>\u001b[1;34m\u001b[0m\n\u001b[1;32m----> 1\u001b[1;33m \u001b[0mdf\u001b[0m\u001b[1;33m.\u001b[0m\u001b[0mabs\u001b[0m\u001b[1;33m(\u001b[0m\u001b[1;33m)\u001b[0m\u001b[1;33m\u001b[0m\u001b[0m\n\u001b[0m",
      "\u001b[1;32mc:\\python36\\lib\\site-packages\\pandas\\core\\generic.py\u001b[0m in \u001b[0;36mabs\u001b[1;34m(self)\u001b[0m\n\u001b[0;32m   9480\u001b[0m         \u001b[1;36m3\u001b[0m    \u001b[1;36m7\u001b[0m   \u001b[1;36m40\u001b[0m  \u001b[1;33m-\u001b[0m\u001b[1;36m50\u001b[0m\u001b[1;33m\u001b[0m\u001b[0m\n\u001b[0;32m   9481\u001b[0m         \"\"\"\n\u001b[1;32m-> 9482\u001b[1;33m         \u001b[1;32mreturn\u001b[0m \u001b[0mnp\u001b[0m\u001b[1;33m.\u001b[0m\u001b[0mabs\u001b[0m\u001b[1;33m(\u001b[0m\u001b[0mself\u001b[0m\u001b[1;33m)\u001b[0m\u001b[1;33m\u001b[0m\u001b[0m\n\u001b[0m\u001b[0;32m   9483\u001b[0m \u001b[1;33m\u001b[0m\u001b[0m\n\u001b[0;32m   9484\u001b[0m     \u001b[1;32mdef\u001b[0m \u001b[0mdescribe\u001b[0m\u001b[1;33m(\u001b[0m\u001b[0mself\u001b[0m\u001b[1;33m,\u001b[0m \u001b[0mpercentiles\u001b[0m\u001b[1;33m=\u001b[0m\u001b[1;32mNone\u001b[0m\u001b[1;33m,\u001b[0m \u001b[0minclude\u001b[0m\u001b[1;33m=\u001b[0m\u001b[1;32mNone\u001b[0m\u001b[1;33m,\u001b[0m \u001b[0mexclude\u001b[0m\u001b[1;33m=\u001b[0m\u001b[1;32mNone\u001b[0m\u001b[1;33m)\u001b[0m\u001b[1;33m:\u001b[0m\u001b[1;33m\u001b[0m\u001b[0m\n",
      "\u001b[1;31mTypeError\u001b[0m: bad operand type for abs(): 'str'"
     ]
    }
   ],
   "source": [
    "df.abs()"
   ]
  }
 ],
 "metadata": {
  "kernelspec": {
   "display_name": "Python 3",
   "language": "python",
   "name": "python3"
  },
  "language_info": {
   "codemirror_mode": {
    "name": "ipython",
    "version": 3
   },
   "file_extension": ".py",
   "mimetype": "text/x-python",
   "name": "python",
   "nbconvert_exporter": "python",
   "pygments_lexer": "ipython3",
   "version": "3.6.5"
  }
 },
 "nbformat": 4,
 "nbformat_minor": 2
}
