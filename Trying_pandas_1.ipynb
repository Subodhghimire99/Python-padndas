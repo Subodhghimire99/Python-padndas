{
 "cells": [
  {
   "cell_type": "code",
   "execution_count": 1,
   "metadata": {},
   "outputs": [],
   "source": [
    "import pandas as pd\n",
    "import math"
   ]
  },
  {
   "cell_type": "code",
   "execution_count": 2,
   "metadata": {},
   "outputs": [],
   "source": [
    "df = pd.read_csv(\"fifa_players_data.csv\")                #  for reading data :-  read_csv( location of file ) \n",
    "# <data frame object name > to view all data ...this case df is the object "
   ]
  },
  {
   "cell_type": "code",
   "execution_count": 3,
   "metadata": {},
   "outputs": [],
   "source": [
    "\"\"\"\n",
    "DataFrame(<dictonary>)\n",
    "creating a data frame using dictonary \n",
    "arrays must be of same length \n",
    "\"\"\"\n",
    "dict1={\n",
    "    \"Name\":[\"Subodh\", \"Sanjiv\", \"Suraj\", \"Rajiv\", \"Sudesh\", \"Milan\", \"Suman\", \"Manoj\"],\n",
    "    \"Branch\":[\"CSE\", \"CSE\", \"CSE\", \"CSE\", \"Civil\", \"CSE\", \"Civil\", \"MECH\"],\n",
    "    \"Address\":[\"Barangdi\", \"Tansen\", \"Kawaseti\", \"Tansen\", \"\", \"Tansen\", \"Tansen\", \"Bhairavstan\"],\n",
    "}\n",
    "df1=pd.DataFrame(dict1)"
   ]
  },
  {
   "cell_type": "code",
   "execution_count": null,
   "metadata": {},
   "outputs": [],
   "source": [
    "# df.shape gives rows and  columns and size gives the no of elements in whole dataframe \n",
    "print(\"For df1 \\n\\nThe shape is \\t\",df1.shape)\n",
    "rows, columns = df.shape\n",
    "print(\"No of rows is : {0}\\nNo of columns  is : {1} \\nTotal no of elements is {2}\".format(rows, columns, df1.size))\n",
    "df1"
   ]
  },
  {
   "cell_type": "code",
   "execution_count": null,
   "metadata": {},
   "outputs": [],
   "source": [
    "\"\"\"df.columns-- fpr titles in dataframe\n",
    "df.head( <no of elements from first> )\n",
    "df.tail( <no of elements from last > )\n",
    "df[:] -- all\n",
    "df[m:n]  ---  from m rows to n rows .... n exclusive\"\"\"\n",
    "df1[1:3]"
   ]
  },
  {
   "cell_type": "code",
   "execution_count": null,
   "metadata": {},
   "outputs": [],
   "source": [
    "df.head()"
   ]
  },
  {
   "cell_type": "code",
   "execution_count": null,
   "metadata": {},
   "outputs": [],
   "source": [
    "df1.tail(4)"
   ]
  },
  {
   "cell_type": "code",
   "execution_count": null,
   "metadata": {},
   "outputs": [],
   "source": [
    "df[['Name','Age']]  #printing the selected colums Name and Age from df"
   ]
  },
  {
   "cell_type": "code",
   "execution_count": null,
   "metadata": {},
   "outputs": [],
   "source": [
    "# max and min funtionn\n",
    "print(\"Max age : \", df[\"Age\"].max())\n",
    "print(\"Min age\", df[\"Age\"].min())\n",
    "print(\"Mean age (used floor function) : \", math.floor(df[\"Age\"].mean()))\n",
    "print(\"standard deviation of Age (without using floor function) : \", df[\"Age\"].std())"
   ]
  },
  {
   "cell_type": "code",
   "execution_count": null,
   "metadata": {},
   "outputs": [],
   "source": [
    "df.describe()  # describe prints the statistics in our dataset such as min, max, std, mean, etc."
   ]
  },
  {
   "cell_type": "code",
   "execution_count": null,
   "metadata": {},
   "outputs": [],
   "source": [
    "\"\"\" Filtering using the elements\n",
    "    \n",
    "    df[[column_name]][condition]     ---> shows specified columns based upon the condition\n",
    "    df[condition]                  ---> shows all columns based upon the conditions\n",
    "    \n",
    "\"\"\"\n",
    "\n",
    "df[df.Age == df.Age.max()]\n",
    "df[df.Overall >= 90]\n",
    "df[['Name','Age','Overall','Photo']][df['Overall'] >= 90]"
   ]
  },
  {
   "cell_type": "code",
   "execution_count": null,
   "metadata": {},
   "outputs": [],
   "source": [
    "df.index   #showing the index"
   ]
  },
  {
   "cell_type": "code",
   "execution_count": 27,
   "metadata": {},
   "outputs": [
    {
     "data": {
      "text/plain": [
       "level_0           2\n",
       "index             2\n",
       "Branch          CSE\n",
       "Name          Suraj\n",
       "Address    Kawaseti\n",
       "Name: 2, dtype: object"
      ]
     },
     "execution_count": 27,
     "metadata": {},
     "output_type": "execute_result"
    }
   ],
   "source": [
    "'''pandas has it's own index\n",
    "    To change we use   df.set_index(\"column_name\" inplace=True)       --> if inplace is true it modifies the currtnt dataframe else gives new dataframe with new index\n",
    "    To reset the changes we use df.reset_index(inplace = True) \n",
    "    we can access data using index by ... dataframe.loc['Index_value']\n",
    "    \n",
    "Note : we cannot set_index twice\n",
    "'''\n",
    "df1.loc[2]"
   ]
  }
 ],
 "metadata": {
  "kernelspec": {
   "display_name": "Python 3",
   "language": "python",
   "name": "python3"
  },
  "language_info": {
   "codemirror_mode": {
    "name": "ipython",
    "version": 3
   },
   "file_extension": ".py",
   "mimetype": "text/x-python",
   "name": "python",
   "nbconvert_exporter": "python",
   "pygments_lexer": "ipython3",
   "version": "3.6.5"
  }
 },
 "nbformat": 4,
 "nbformat_minor": 2
}
